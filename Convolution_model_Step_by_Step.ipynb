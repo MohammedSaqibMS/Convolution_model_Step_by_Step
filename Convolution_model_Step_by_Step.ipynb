{
 "cells": [
  {
   "cell_type": "markdown",
   "id": "0a61683c-6c32-4b9c-9bdd-c1f74d8021fe",
   "metadata": {},
   "source": [
    "# Convolutional Neural Networks: Step by Step"
   ]
  },
  {
   "cell_type": "markdown",
   "id": "8e8903ed-eeb3-407b-a4f7-cb06cbbf7579",
   "metadata": {},
   "source": [
    "## 1 - Packages"
   ]
  },
  {
   "cell_type": "code",
   "execution_count": 4,
   "id": "4c1fa257-f910-4321-b12e-7d52d686db7d",
   "metadata": {},
   "outputs": [],
   "source": [
    "import numpy as np\n",
    "import h5py\n",
    "import matplotlib.pyplot as plt\n",
    "\n",
    "# Configure default plot settings for consistency and readability\n",
    "plt.rcParams['figure.figsize'] = (5.0, 4.0)  # Set default plot size\n",
    "plt.rcParams['image.interpolation'] = 'nearest'  # Avoid smoothing for image data\n",
    "plt.rcParams['image.cmap'] = 'gray'  # Display images in grayscale by default\n",
    "\n",
    "# Set a random seed for reproducibility\n",
    "np.random.seed(1)\n",
    "\n",
    "# Enable Jupyter-specific commands if running in a Jupyter environment\n",
    "try:\n",
    "    # Load the autoreload extension to automatically reload modules before executing code\n",
    "    get_ipython().run_line_magic('load_ext', 'autoreload')\n",
    "    # Set autoreload to reload all modules (except those imported with \"from ... import ...\")\n",
    "    get_ipython().run_line_magic('autoreload', '2')\n",
    "except NameError:\n",
    "    # If not in Jupyter, skip loading these extensions\n",
    "    pass\n"
   ]
  },
  {
   "cell_type": "markdown",
   "id": "2d6bc0ad-df09-4364-a9dc-7a659cc3930d",
   "metadata": {},
   "source": [
    "## 3 - Convolutional Neural Networks"
   ]
  },
  {
   "cell_type": "markdown",
   "id": "6873c58a-3e95-4981-8ef0-be71c0f47cec",
   "metadata": {},
   "source": [
    "### 3.1 - Zero-Padding"
   ]
  },
  {
   "cell_type": "code",
   "execution_count": 7,
   "id": "1095ced3-885a-4760-9b21-95b2de39c86f",
   "metadata": {},
   "outputs": [],
   "source": [
    "import numpy as np\n",
    "\n",
    "def zero_pad(X, pad):\n",
    "    \"\"\"\n",
    "    Pads each image in the dataset X with zeros around the height and width.\n",
    "\n",
    "    Args:\n",
    "        X (numpy.ndarray): Array of shape (m, n_H, n_W, n_C) representing a batch of m images.\n",
    "        pad (int): Amount of padding to add around each image's height and width.\n",
    "\n",
    "    Returns:\n",
    "        numpy.ndarray: Padded image array of shape (m, n_H + 2*pad, n_W + 2*pad, n_C).\n",
    "    \"\"\"\n",
    "    # Apply zero-padding around height and width dimensions\n",
    "    X_pad = np.pad(X, ((0, 0), (pad, pad), (pad, pad), (0, 0)), mode='constant', constant_values=0)\n",
    "    return X_pad\n"
   ]
  },
  {
   "cell_type": "code",
   "execution_count": 8,
   "id": "69278368-a3b1-4c18-994c-f54c175dc9f0",
   "metadata": {},
   "outputs": [
    {
     "name": "stdout",
     "output_type": "stream",
     "text": [
      "x.shape = (4, 3, 3, 2)\n",
      "x_pad.shape = (4, 7, 7, 2)\n",
      "x[1, 1] = [[ 0.90085595 -0.68372786]\n",
      " [-0.12289023 -0.93576943]\n",
      " [-0.26788808  0.53035547]]\n",
      "x_pad[1, 1] = [[0. 0.]\n",
      " [0. 0.]\n",
      " [0. 0.]\n",
      " [0. 0.]\n",
      " [0. 0.]\n",
      " [0. 0.]\n",
      " [0. 0.]]\n"
     ]
    },
    {
     "data": {
      "text/plain": [
       "<matplotlib.image.AxesImage at 0x7d5e72a78230>"
      ]
     },
     "execution_count": 8,
     "metadata": {},
     "output_type": "execute_result"
    },
    {
     "data": {
      "image/png": "[encoded data removed]",
      "text/plain": [
       "<Figure size 500x400 with 2 Axes>"
      ]
     },
     "metadata": {},
     "output_type": "display_data"
    }
   ],
   "source": [
    "import numpy as np\n",
    "import matplotlib.pyplot as plt\n",
    "\n",
    "# Set a random seed for reproducibility\n",
    "np.random.seed(1)\n",
    "\n",
    "# Generate random input data with shape (4, 3, 3, 2)\n",
    "x = np.random.randn(4, 3, 3, 2)\n",
    "\n",
    "# Apply zero padding with a pad value of 2\n",
    "x_pad = zero_pad(x, 2)\n",
    "\n",
    "# Print shapes of the original and padded arrays\n",
    "print(f\"x.shape = {x.shape}\")\n",
    "print(f\"x_pad.shape = {x_pad.shape}\")\n",
    "\n",
    "# Display a specific element from both the original and padded arrays\n",
    "print(f\"x[1, 1] = {x[1, 1]}\")\n",
    "print(f\"x_pad[1, 1] = {x_pad[1, 1]}\")\n",
    "\n",
    "# Visualize the first image from both original and padded arrays\n",
    "fig, axarr = plt.subplots(1, 2)\n",
    "axarr[0].set_title('x')\n",
    "axarr[0].imshow(x[0, :, :, 0])\n",
    "axarr[1].set_title('x_pad')\n",
    "axarr[1].imshow(x_pad[0, :, :, 0])\n"
   ]
  },
  {
   "cell_type": "markdown",
   "id": "72072ecd-6b59-454a-8eeb-353f28124c85",
   "metadata": {},
   "source": [
    "### 3.2 - Single step of convolution"
   ]
  },
  {
   "cell_type": "code",
   "execution_count": 10,
   "id": "f0a38d54-e70c-48e5-91ef-939c59356a7a",
   "metadata": {},
   "outputs": [],
   "source": [
    "import numpy as np\n",
    "\n",
    "def conv_single_step(a_slice_prev, W, b):\n",
    "    \"\"\"\n",
    "    Perform a single convolutional step by applying filter W and bias b on a slice of input data.\n",
    "    \n",
    "    Parameters:\n",
    "    a_slice_prev -- 3D slice of input data of shape (f, f, n_C_prev)\n",
    "    W -- Weight parameters (filter) of shape (f, f, n_C_prev)\n",
    "    b -- Bias parameter, scalar or of shape (1, 1, 1)\n",
    "    \n",
    "    Returns:\n",
    "    Z -- Scalar result of convolving the filter on the input slice\n",
    "    \"\"\"\n",
    "    \n",
    "    # Element-wise multiplication and summing up the result\n",
    "    Z = np.sum(a_slice_prev * W) + b.item()  # Use .item() to extract the single value from the array\n",
    "    \n",
    "    return Z\n"
   ]
  },
  {
   "cell_type": "code",
   "execution_count": 11,
   "id": "2c6ad895-9140-4648-8b13-22e1d3bbf887",
   "metadata": {},
   "outputs": [
    {
     "name": "stdout",
     "output_type": "stream",
     "text": [
      "Z =-6.999089450680221\n"
     ]
    }
   ],
   "source": [
    "# Set a random seed for reproducibility\n",
    "np.random.seed(1)\n",
    "\n",
    "# Generate a random 3D slice of input data and filter (weights) of the same shape\n",
    "a_slice_prev = np.random.randn(4, 4, 3)  # Input data slice of shape (4, 4, 3)\n",
    "W = np.random.randn(4, 4, 3)             # Filter of shape (4, 4, 3)\n",
    "b = np.random.randn(1, 1, 1)             # Bias, a scalar\n",
    "\n",
    "# Apply the convolutional single-step function to the data slice\n",
    "Z = conv_single_step(a_slice_prev, W, b)\n",
    "\n",
    "# Output the result of the convolution\n",
    "print(f\"Z ={Z}\")\n"
   ]
  },
  {
   "cell_type": "markdown",
   "id": "76e01576-3bee-49b0-a687-1d43f778bafe",
   "metadata": {},
   "source": [
    "### 3.3 - Convolutional Neural Networks - Forward Pass"
   ]
  },
  {
   "cell_type": "code",
   "execution_count": 13,
   "id": "eb2e4ba1-98c0-4234-b236-7ec61af17af8",
   "metadata": {},
   "outputs": [],
   "source": [
    "def conv_forward(A_prev, W, b, hparameters):\n",
    "    \"\"\"\n",
    "    Perform forward propagation for a convolutional layer.\n",
    "    \n",
    "    Arguments:\n",
    "    A_prev -- Output activations from the previous layer, numpy array of shape (m, n_H_prev, n_W_prev, n_C_prev)\n",
    "    W -- Filters, numpy array of shape (f, f, n_C_prev, n_C)\n",
    "    b -- Biases, numpy array of shape (1, 1, 1, n_C)\n",
    "    hparameters -- Dictionary containing \"stride\" and \"pad\"\n",
    "        \n",
    "    Returns:\n",
    "    Z -- Convolution output, numpy array of shape (m, n_H, n_W, n_C)\n",
    "    cache -- Cache of values for use in backpropagation\n",
    "    \"\"\"\n",
    "    \n",
    "    # Extract dimensions\n",
    "    (m, n_H_prev, n_W_prev, n_C_prev) = A_prev.shape\n",
    "    (f, _, _, n_C) = W.shape\n",
    "    \n",
    "    # Extract hyperparameters\n",
    "    stride, pad = hparameters[\"stride\"], hparameters[\"pad\"]\n",
    "    \n",
    "    # Calculate output dimensions\n",
    "    n_H = (n_H_prev + 2 * pad - f) // stride + 1\n",
    "    n_W = (n_W_prev + 2 * pad - f) // stride + 1\n",
    "    \n",
    "    # Initialize output volume Z with zeros\n",
    "    Z = np.zeros((m, n_H, n_W, n_C))\n",
    "    \n",
    "    # Pad the input volume\n",
    "    A_prev_pad = zero_pad(A_prev, pad)\n",
    "    \n",
    "    # Perform convolution\n",
    "    for i in range(m):  # Iterate over the batch\n",
    "        a_prev_pad = A_prev_pad[i]  # Padded activation for current example\n",
    "        for h in range(n_H):        # Iterate over vertical axis\n",
    "            vert_start, vert_end = h * stride, h * stride + f\n",
    "            \n",
    "            for w in range(n_W):    # Iterate over horizontal axis\n",
    "                horiz_start, horiz_end = w * stride, w * stride + f\n",
    "                \n",
    "                for c in range(n_C):  # Iterate over channels (filters)\n",
    "                    # Slice the input and apply convolution with filter W and bias b\n",
    "                    a_slice_prev = a_prev_pad[vert_start:vert_end, horiz_start:horiz_end, :]\n",
    "                    weights, bias = W[..., c], b[..., c]\n",
    "                    Z[i, h, w, c] = conv_single_step(a_slice_prev, weights, bias)\n",
    "    \n",
    "    # Ensure output shape is as expected\n",
    "    assert Z.shape == (m, n_H, n_W, n_C)\n",
    "    \n",
    "    # Store values in cache for backward propagation\n",
    "    cache = (A_prev, W, b, hparameters)\n",
    "    \n",
    "    return Z, cache\n"
   ]
  },
  {
   "cell_type": "code",
   "execution_count": 14,
   "id": "a7639ec6-788c-4688-a3ef-cbe89ccbc898",
   "metadata": {},
   "outputs": [
    {
     "name": "stdout",
     "output_type": "stream",
     "text": [
      "Mean of Z =0.6923608807576933\n",
      "Z[3,2,1] =[-1.28912231  2.27650251  6.61941931  0.95527176  8.25132576  2.31329639\n",
      " 13.00689405  2.34576051]\n",
      "cache_conv[0][1][2][3] =[-1.1191154   1.9560789  -0.3264995  -1.34267579]\n"
     ]
    }
   ],
   "source": [
    "import numpy as np\n",
    "\n",
    "# Set random seed for reproducibility\n",
    "np.random.seed(1)\n",
    "\n",
    "# Generate random input data, weights, and biases\n",
    "A_prev = np.random.randn(10, 5, 7, 4)  # Input activations (batch size: 10, height: 5, width: 7, channels: 4)\n",
    "W = np.random.randn(3, 3, 4, 8)        # Filters (height: 3, width: 3, input channels: 4, output channels: 8)\n",
    "b = np.random.randn(1, 1, 1, 8)        # Biases (1 for each output channel)\n",
    "\n",
    "# Define hyperparameters for padding and stride\n",
    "hparameters = {\"pad\": 1, \"stride\": 2}\n",
    "\n",
    "# Perform the forward convolution operation\n",
    "Z, cache_conv = conv_forward(A_prev, W, b, hparameters)\n",
    "\n",
    "# Print summary statistics and sample values for verification\n",
    "print(f\"Mean of Z ={np.mean(Z)}\")          # Mean of the output volume\n",
    "print(f\"Z[3,2,1] ={Z[3, 2, 1]}\")           # Specific output element for debugging\n",
    "print(f\"cache_conv[0][1][2][3] ={cache_conv[0][1][2][3]}\")  # Cached activation sample for backpropagation\n"
   ]
  },
  {
   "cell_type": "markdown",
   "id": "b109c0b7-c22f-484e-940f-0ae546519983",
   "metadata": {},
   "source": [
    "## 4 - Pooling layer"
   ]
  },
  {
   "cell_type": "markdown",
   "id": "d42652b3-938b-4d95-be9a-e1aba3c2b1d8",
   "metadata": {},
   "source": [
    "### 4.1 - Forward Pooling"
   ]
  },
  {
   "cell_type": "code",
   "execution_count": 17,
   "id": "d5d6ac8a-b368-4cae-8421-7d7c7fb17426",
   "metadata": {},
   "outputs": [],
   "source": [
    "import numpy as np\n",
    "\n",
    "def pool_forward(A_prev, hparameters, mode=\"max\"):\n",
    "    \"\"\"\n",
    "    Implements the forward pass of the pooling layer.\n",
    "\n",
    "    Parameters:\n",
    "    A_prev (numpy.ndarray): Input data of shape (m, n_H_prev, n_W_prev, n_C_prev)\n",
    "    hparameters (dict): Dictionary containing \"f\" (filter size) and \"stride\"\n",
    "    mode (str): Pooling mode to apply, either \"max\" or \"average\"\n",
    "\n",
    "    Returns:\n",
    "    A (numpy.ndarray): Output of the pool layer, with shape (m, n_H, n_W, n_C)\n",
    "    cache (tuple): Contains input and hparameters for use in backpropagation\n",
    "    \"\"\"\n",
    "    \n",
    "    # Retrieve dimensions and hyperparameters\n",
    "    (m, n_H_prev, n_W_prev, n_C_prev) = A_prev.shape\n",
    "    f = hparameters[\"f\"]\n",
    "    stride = hparameters[\"stride\"]\n",
    "\n",
    "    # Define output dimensions\n",
    "    n_H = 1 + (n_H_prev - f) // stride\n",
    "    n_W = 1 + (n_W_prev - f) // stride\n",
    "    n_C = n_C_prev\n",
    "    \n",
    "    # Initialize output matrix A\n",
    "    A = np.zeros((m, n_H, n_W, n_C))              \n",
    "    \n",
    "    # Perform pooling operation\n",
    "    for i in range(m):                         # loop over training examples\n",
    "        for h in range(n_H):                   # loop over height of output\n",
    "            vert_start = h * stride\n",
    "            vert_end = vert_start + f\n",
    "            for w in range(n_W):               # loop over width of output\n",
    "                horiz_start = w * stride\n",
    "                horiz_end = horiz_start + f\n",
    "                for c in range(n_C):           # loop over channels\n",
    "                    # Select the slice for pooling\n",
    "                    a_slice = A_prev[i, vert_start:vert_end, horiz_start:horiz_end, c]\n",
    "                    \n",
    "                    # Apply pooling operation based on mode\n",
    "                    if mode == \"max\":\n",
    "                        A[i, h, w, c] = np.max(a_slice)\n",
    "                    elif mode == \"average\":\n",
    "                        A[i, h, w, c] = np.mean(a_slice)\n",
    "    \n",
    "    # Cache values for backpropagation\n",
    "    cache = (A_prev, hparameters)\n",
    "    \n",
    "    # Ensure output shape is correct\n",
    "    assert A.shape == (m, n_H, n_W, n_C)\n",
    "    \n",
    "    return A, cache\n"
   ]
  },
  {
   "cell_type": "code",
   "execution_count": 18,
   "id": "14616f72-e501-40c2-84be-a7e071b55cc2",
   "metadata": {},
   "outputs": [
    {
     "name": "stdout",
     "output_type": "stream",
     "text": [
      "mode = max\n",
      "A.shape =(2, 3, 3, 3)\n",
      "A =\n",
      "[[[[1.74481176 0.90159072 1.65980218]\n",
      "   [1.74481176 1.46210794 1.65980218]\n",
      "   [1.74481176 1.6924546  1.65980218]]\n",
      "\n",
      "  [[1.14472371 0.90159072 2.10025514]\n",
      "   [1.14472371 0.90159072 1.65980218]\n",
      "   [1.14472371 1.6924546  1.65980218]]\n",
      "\n",
      "  [[1.13162939 1.51981682 2.18557541]\n",
      "   [1.13162939 1.51981682 2.18557541]\n",
      "   [1.13162939 1.6924546  2.18557541]]]\n",
      "\n",
      "\n",
      " [[[1.19891788 0.84616065 0.82797464]\n",
      "   [0.69803203 0.84616065 1.2245077 ]\n",
      "   [0.69803203 1.12141771 1.2245077 ]]\n",
      "\n",
      "  [[1.96710175 0.84616065 1.27375593]\n",
      "   [1.96710175 0.84616065 1.23616403]\n",
      "   [1.62765075 1.12141771 1.2245077 ]]\n",
      "\n",
      "  [[1.96710175 0.86888616 1.27375593]\n",
      "   [1.96710175 0.86888616 1.23616403]\n",
      "   [1.62765075 1.12141771 0.79280687]]]]\n",
      "\n",
      "mode = average\n",
      "A.shape =(2, 3, 3, 3)\n",
      "A =\n",
      "[[[[-3.01046719e-02 -3.24021315e-03 -3.36298859e-01]\n",
      "   [ 1.43310483e-01  1.93146751e-01 -4.44905196e-01]\n",
      "   [ 1.28934436e-01  2.22428468e-01  1.25067597e-01]]\n",
      "\n",
      "  [[-3.81801899e-01  1.59993515e-02  1.70562706e-01]\n",
      "   [ 4.73707165e-02  2.59244658e-02  9.20338402e-02]\n",
      "   [ 3.97048605e-02  1.57189094e-01  3.45302489e-01]]\n",
      "\n",
      "  [[-3.82680519e-01  2.32579951e-01  6.25997903e-01]\n",
      "   [-2.47157416e-01 -3.48524998e-04  3.50539717e-01]\n",
      "   [-9.52551510e-02  2.68511000e-01  4.66056368e-01]]]\n",
      "\n",
      "\n",
      " [[[-1.73134159e-01  3.23771981e-01 -3.43175716e-01]\n",
      "   [ 3.80634669e-02  7.26706274e-02 -2.30268958e-01]\n",
      "   [ 2.03009393e-02  1.41414785e-01 -1.23158476e-02]]\n",
      "\n",
      "  [[ 4.44976963e-01 -2.61694592e-03 -3.10403073e-01]\n",
      "   [ 5.08114737e-01 -2.34937338e-01 -2.39611830e-01]\n",
      "   [ 1.18726772e-01  1.72552294e-01 -2.21121966e-01]]\n",
      "\n",
      "  [[ 4.29449255e-01  8.44699612e-02 -2.72909051e-01]\n",
      "   [ 6.76351685e-01 -1.20138225e-01 -2.44076712e-01]\n",
      "   [ 1.50774518e-01  2.89111751e-01  1.23238536e-03]]]]\n"
     ]
    }
   ],
   "source": [
    "#### Stride = 1\n",
    "\n",
    "# Set up test case parameters\n",
    "np.random.seed(1)  # Seed for reproducibility\n",
    "A_prev = np.random.randn(2, 5, 5, 3)  # Sample input with shape (m=2, height=5, width=5, channels=3)\n",
    "hparameters = {\"stride\": 1, \"f\": 3}  # Pooling parameters: stride and filter size\n",
    "\n",
    "# Test max pooling mode\n",
    "print(\"mode = max\")\n",
    "A_max, _ = pool_forward(A_prev, hparameters, mode=\"max\")\n",
    "print(f\"A.shape ={A_max.shape}\")  # Expected output shape\n",
    "print(f\"A =\\n{A_max}\")  # Output of max pooling\n",
    "\n",
    "print()  # Blank line for separation\n",
    "\n",
    "# Test average pooling mode\n",
    "print(\"mode = average\")\n",
    "A_avg, _ = pool_forward(A_prev, hparameters, mode=\"average\")\n",
    "print(f\"A.shape ={A_avg.shape}\")  # Expected output shape\n",
    "print(f\"A =\\n{A_avg}\")  # Output of average pooling\n"
   ]
  },
  {
   "cell_type": "code",
   "execution_count": 19,
   "id": "8fa776aa-37dc-4cf4-b3a7-7db779ea10fa",
   "metadata": {},
   "outputs": [
    {
     "name": "stdout",
     "output_type": "stream",
     "text": [
      "mode = max\n",
      "A.shape =(2, 2, 2, 3)\n",
      "A =\n",
      "[[[[1.74481176 0.90159072 1.65980218]\n",
      "   [1.74481176 1.6924546  1.65980218]]\n",
      "\n",
      "  [[1.13162939 1.51981682 2.18557541]\n",
      "   [1.13162939 1.6924546  2.18557541]]]\n",
      "\n",
      "\n",
      " [[[1.19891788 0.84616065 0.82797464]\n",
      "   [0.69803203 1.12141771 1.2245077 ]]\n",
      "\n",
      "  [[1.96710175 0.86888616 1.27375593]\n",
      "   [1.62765075 1.12141771 0.79280687]]]]\n",
      "\n",
      "mode = average\n",
      "A.shape =(2, 2, 2, 3)\n",
      "A =\n",
      "[[[[-0.03010467 -0.00324021 -0.33629886]\n",
      "   [ 0.12893444  0.22242847  0.1250676 ]]\n",
      "\n",
      "  [[-0.38268052  0.23257995  0.6259979 ]\n",
      "   [-0.09525515  0.268511    0.46605637]]]\n",
      "\n",
      "\n",
      " [[[-0.17313416  0.32377198 -0.34317572]\n",
      "   [ 0.02030094  0.14141479 -0.01231585]]\n",
      "\n",
      "  [[ 0.42944926  0.08446996 -0.27290905]\n",
      "   [ 0.15077452  0.28911175  0.00123239]]]]\n"
     ]
    }
   ],
   "source": [
    "#### Stride = 2\n",
    "\n",
    "# Set up test case parameters\n",
    "np.random.seed(1)  # Seed for reproducibility\n",
    "A_prev = np.random.randn(2, 5, 5, 3)  # Sample input with shape (m=2, height=5, width=5, channels=3)\n",
    "hparameters = {\"stride\": 2, \"f\": 3}  # Pooling parameters: stride and filter size\n",
    "\n",
    "# Test max pooling mode\n",
    "print(\"mode = max\")\n",
    "A_max, _ = pool_forward(A_prev, hparameters, mode=\"max\")\n",
    "print(f\"A.shape ={A_max.shape}\")  # Expected output shape\n",
    "print(f\"A =\\n{A_max}\")  # Output of max pooling\n",
    "\n",
    "print()  # Blank line for separation\n",
    "\n",
    "# Test average pooling mode\n",
    "print(\"mode = average\")\n",
    "A_avg, _ = pool_forward(A_prev, hparameters, mode=\"average\")\n",
    "print(f\"A.shape ={A_avg.shape}\")  # Expected output shape\n",
    "print(f\"A =\\n{A_avg}\")  # Output of average pooling\n"
   ]
  },
  {
   "cell_type": "markdown",
   "id": "77876528-9f79-41f7-aead-1bbb4afb3b2e",
   "metadata": {},
   "source": [
    "## 5 - Backpropagation in convolutional neural network"
   ]
  },
  {
   "cell_type": "markdown",
   "id": "f2e64afd-fc3f-4b8a-b8e5-955bd02a982d",
   "metadata": {},
   "source": [
    "### 5.1 - Convolutional layer backward pass"
   ]
  },
  {
   "cell_type": "markdown",
   "id": "b2ac2c10-8337-4164-85d8-55b516c6316f",
   "metadata": {},
   "source": [
    "#### 5.1.1 - Computing dA"
   ]
  },
  {
   "cell_type": "markdown",
   "id": "590f340a-2510-4b38-b40d-d738ac048461",
   "metadata": {},
   "source": [
    "#### 5.1.2 - Computing dW"
   ]
  },
  {
   "cell_type": "markdown",
   "id": "1ac3b315-41e8-4f78-9341-15032ee2d1cb",
   "metadata": {},
   "source": [
    "#### 5.1.3 - Computing db"
   ]
  },
  {
   "cell_type": "code",
   "execution_count": 25,
   "id": "93a986e1-552f-454e-a70a-27635bd474b2",
   "metadata": {},
   "outputs": [],
   "source": [
    "import numpy as np\n",
    "\n",
    "def conv_backward(dZ, cache):\n",
    "    \"\"\"\n",
    "    Implements backward propagation for a convolutional layer.\n",
    "    \n",
    "    Arguments:\n",
    "    dZ -- Gradient of the cost with respect to the output of the conv layer (Z),\n",
    "          numpy array of shape (m, n_H, n_W, n_C)\n",
    "    cache -- Cache of values from the forward pass, containing (A_prev, W, b, hparameters)\n",
    "    \n",
    "    Returns:\n",
    "    dA_prev -- Gradient of the cost with respect to the input of the conv layer (A_prev),\n",
    "               numpy array of shape (m, n_H_prev, n_W_prev, n_C_prev)\n",
    "    dW -- Gradient of the cost with respect to the weights of the conv layer (W),\n",
    "          numpy array of shape (f, f, n_C_prev, n_C)\n",
    "    db -- Gradient of the cost with respect to the biases of the conv layer (b),\n",
    "          numpy array of shape (1, 1, 1, n_C)\n",
    "    \"\"\"\n",
    "    \n",
    "    # Retrieve values from the cache\n",
    "    A_prev, W, b, hparameters = cache\n",
    "    stride, pad = hparameters[\"stride\"], hparameters[\"pad\"]\n",
    "    \n",
    "    # Retrieve dimensions\n",
    "    (m, n_H_prev, n_W_prev, n_C_prev) = A_prev.shape\n",
    "    (f, f, n_C_prev, n_C) = W.shape\n",
    "    (m, n_H, n_W, n_C) = dZ.shape\n",
    "    \n",
    "    # Initialize gradients with zeros\n",
    "    dA_prev = np.zeros_like(A_prev)\n",
    "    dW = np.zeros_like(W)\n",
    "    db = np.zeros_like(b)\n",
    "    \n",
    "    # Pad A_prev and dA_prev\n",
    "    A_prev_pad = np.pad(A_prev, ((0, 0), (pad, pad), (pad, pad), (0, 0)), mode='constant', constant_values=0)\n",
    "    dA_prev_pad = np.pad(dA_prev, ((0, 0), (pad, pad), (pad, pad), (0, 0)), mode='constant', constant_values=0)\n",
    "    \n",
    "    # Loop over each training example\n",
    "    for i in range(m):\n",
    "        a_prev_pad = A_prev_pad[i]  # ith example of padded A_prev\n",
    "        da_prev_pad = dA_prev_pad[i]  # ith example of padded dA_prev\n",
    "        \n",
    "        # Loop over output dimensions\n",
    "        for h in range(n_H):\n",
    "            for w in range(n_W):\n",
    "                for c in range(n_C):\n",
    "                    # Define slice corners\n",
    "                    vert_start, vert_end = h * stride, h * stride + f\n",
    "                    horiz_start, horiz_end = w * stride, w * stride + f\n",
    "                    \n",
    "                    # Define slice and compute gradients\n",
    "                    a_slice = a_prev_pad[vert_start:vert_end, horiz_start:horiz_end, :]\n",
    "                    da_prev_pad[vert_start:vert_end, horiz_start:horiz_end, :] += W[:, :, :, c] * dZ[i, h, w, c]\n",
    "                    dW[:, :, :, c] += a_slice * dZ[i, h, w, c]\n",
    "                    db[:, :, :, c] += dZ[i, h, w, c]\n",
    "        \n",
    "        # Unpad the gradient to get dA_prev for the ith example\n",
    "        dA_prev[i, :, :, :] = da_prev_pad[pad:-pad, pad:-pad, :]\n",
    "    \n",
    "    # Check output shape\n",
    "    assert dA_prev.shape == (m, n_H_prev, n_W_prev, n_C_prev)\n",
    "    \n",
    "    return dA_prev, dW, db\n"
   ]
  },
  {
   "cell_type": "code",
   "execution_count": 26,
   "id": "dae2deb6-f55b-44e0-abea-0b20d9c29c76",
   "metadata": {},
   "outputs": [
    {
     "name": "stdout",
     "output_type": "stream",
     "text": [
      "dA_mean = 1.4524377775388075\n",
      "dW_mean = 1.7269914583139097\n",
      "db_mean = 7.839232564616838\n"
     ]
    }
   ],
   "source": [
    "# Initialize inputs and parameters for conv_forward\n",
    "np.random.seed(1)\n",
    "A_prev = np.random.randn(10, 4, 4, 3)  # Example input with shape (m, height, width, channels)\n",
    "W = np.random.randn(2, 2, 3, 8)        # Weights with shape (filter_height, filter_width, input_channels, output_channels)\n",
    "b = np.random.randn(1, 1, 1, 8)        # Biases for each output channel\n",
    "hparameters = {\"pad\": 2, \"stride\": 2}  # Padding and stride hyperparameters\n",
    "\n",
    "# Run forward pass to obtain Z and cache\n",
    "Z, cache_conv = conv_forward(A_prev, W, b, hparameters)\n",
    "\n",
    "# Test backward pass with the obtained cache\n",
    "dA, dW, db = conv_backward(Z, cache_conv)\n",
    "\n",
    "# Output the means of gradients for quick verification\n",
    "print(f\"dA_mean = {np.mean(dA)}\")\n",
    "print(f\"dW_mean = {np.mean(dW)}\")\n",
    "print(f\"db_mean = {np.mean(db)}\")\n"
   ]
  },
  {
   "cell_type": "markdown",
   "id": "b7fdcf72-f64b-49fd-affe-5a6c4d7eca22",
   "metadata": {},
   "source": [
    "### 5.2 - Pooling layer - backward pass"
   ]
  },
  {
   "cell_type": "markdown",
   "id": "6fcdd68f-9790-4cc5-992e-faf408d129b0",
   "metadata": {},
   "source": [
    "#### 5.2.1 - Max pooling - backward pass"
   ]
  },
  {
   "cell_type": "code",
   "execution_count": 29,
   "id": "6a060b84-f151-4ef0-b90a-292ee8dd8157",
   "metadata": {},
   "outputs": [],
   "source": [
    "def create_mask_from_window(x):\n",
    "    \"\"\"\n",
    "    Creates a mask from an input matrix `x` to identify the maximum entry in `x`.\n",
    "    \n",
    "    Arguments:\n",
    "    x -- 2D NumPy array of shape (f, f)\n",
    "    \n",
    "    Returns:\n",
    "    mask -- Boolean array of the same shape as `x`, containing True at the position of the maximum entry in `x`, False elsewhere.\n",
    "    \"\"\"\n",
    "    \n",
    "    # Create a mask with True at the max value's position in `x` and False elsewhere\n",
    "    mask = (x == np.max(x))\n",
    "    \n",
    "    return mask\n"
   ]
  },
  {
   "cell_type": "code",
   "execution_count": 30,
   "id": "075bf86d-08ed-4594-87b1-03064e1f0bf7",
   "metadata": {},
   "outputs": [
    {
     "name": "stdout",
     "output_type": "stream",
     "text": [
      "x =\n",
      "[[ 1.62434536 -0.61175641 -0.52817175]\n",
      " [-1.07296862  0.86540763 -2.3015387 ]]\n",
      "mask =\n",
      "[[ True False False]\n",
      " [False False False]]\n"
     ]
    }
   ],
   "source": [
    "# Seed the random number generator for reproducibility\n",
    "np.random.seed(1)\n",
    "\n",
    "# Generate a 2x3 matrix of random values from a normal distribution\n",
    "x = np.random.randn(2, 3)\n",
    "\n",
    "# Apply the create_mask_from_window function to get a mask for the max entry in `x`\n",
    "mask = create_mask_from_window(x)\n",
    "\n",
    "# Display the matrix `x` and the generated mask\n",
    "print(f'x =\\n{x}')\n",
    "print(f\"mask =\\n{mask}\")"
   ]
  },
  {
   "cell_type": "markdown",
   "id": "5e12ccea-347f-426a-889d-4d98874dd07f",
   "metadata": {},
   "source": [
    "#### 5.2.2 - Average pooling - backward pass"
   ]
  },
  {
   "cell_type": "code",
   "execution_count": 32,
   "id": "0b7209c2-8b47-46aa-91f5-7dac1643a1f5",
   "metadata": {},
   "outputs": [],
   "source": [
    "def distribute_value(dz, shape):\n",
    "    \"\"\"\n",
    "    Distributes a scalar value across a matrix of a specified shape.\n",
    "    \n",
    "    Arguments:\n",
    "    dz -- Scalar to be distributed across the output matrix.\n",
    "    shape -- Tuple (n_H, n_W) representing the dimensions of the output matrix.\n",
    "    \n",
    "    Returns:\n",
    "    a -- Array of shape (n_H, n_W) where each element is the distributed value of dz.\n",
    "    \"\"\"\n",
    "    \n",
    "    # Unpack dimensions from the provided shape\n",
    "    n_H, n_W = shape\n",
    "    \n",
    "    # Calculate the distributed value by dividing dz across all elements in the matrix\n",
    "    average = dz / (n_H * n_W)\n",
    "    \n",
    "    # Create a matrix filled with the calculated average value\n",
    "    a = np.full((n_H, n_W), average)\n",
    "    \n",
    "    return a\n"
   ]
  },
  {
   "cell_type": "code",
   "execution_count": 33,
   "id": "68bb0f1a-84e0-4ab8-b998-c624becb9e3c",
   "metadata": {},
   "outputs": [
    {
     "name": "stdout",
     "output_type": "stream",
     "text": [
      "Distributed value =\n",
      "[[0.5 0.5]\n",
      " [0.5 0.5]]\n"
     ]
    }
   ],
   "source": [
    "# Example usage\n",
    "a = distribute_value(2, (2, 2))\n",
    "print(f'Distributed value =\\n{a}')\n"
   ]
  },
  {
   "cell_type": "markdown",
   "id": "a39b991c-56b8-48eb-a1ba-e9af2e3abf02",
   "metadata": {},
   "source": [
    "#### 5.2.3 Pulling it together: Pooling backward"
   ]
  },
  {
   "cell_type": "code",
   "execution_count": 35,
   "id": "31d07ed6-1a1b-435e-848a-61811e1bac5a",
   "metadata": {},
   "outputs": [],
   "source": [
    "import numpy as np\n",
    "\n",
    "def pool_backward(dA, cache, mode=\"max\"):\n",
    "    \"\"\"\n",
    "    Implements the backward pass for a pooling layer.\n",
    "    \n",
    "    Arguments:\n",
    "    dA -- Gradient of the cost with respect to the output of the pooling layer, same shape as the output (A)\n",
    "    cache -- Cache output from the forward pass of the pooling layer, containing the input and hyperparameters\n",
    "    mode -- Pooling mode (\"max\" or \"average\")\n",
    "    \n",
    "    Returns:\n",
    "    dA_prev -- Gradient of the cost with respect to the input of the pooling layer, same shape as the input (A_prev)\n",
    "    \"\"\"\n",
    "    \n",
    "    # Unpack cache values\n",
    "    A_prev, hparameters = cache\n",
    "    stride, f = hparameters[\"stride\"], hparameters[\"f\"]\n",
    "    \n",
    "    # Retrieve dimensions from dA and A_prev\n",
    "    m, n_H_prev, n_W_prev, n_C_prev = A_prev.shape\n",
    "    _, n_H, n_W, n_C = dA.shape\n",
    "    \n",
    "    # Initialize the gradient for the input of the pooling layer\n",
    "    dA_prev = np.zeros_like(A_prev)\n",
    "    \n",
    "    for i in range(m):  # Iterate over training examples\n",
    "        a_prev = A_prev[i]\n",
    "        \n",
    "        for h in range(n_H):  # Iterate over the output height\n",
    "            for w in range(n_W):  # Iterate over the output width\n",
    "                for c in range(n_C):  # Iterate over channels\n",
    "                    \n",
    "                    # Define corners of the slice\n",
    "                    vert_start = h * stride\n",
    "                    vert_end = vert_start + f\n",
    "                    horiz_start = w * stride\n",
    "                    horiz_end = horiz_start + f\n",
    "                    \n",
    "                    # Slice the region of interest in the input\n",
    "                    if mode == \"max\":\n",
    "                        a_prev_slice = a_prev[vert_start:vert_end, horiz_start:horiz_end, c]\n",
    "                        mask = create_mask_from_window(a_prev_slice)\n",
    "                        dA_prev[i, vert_start:vert_end, horiz_start:horiz_end, c] += mask * dA[i, h, w, c]\n",
    "                    \n",
    "                    elif mode == \"average\":\n",
    "                        da = dA[i, h, w, c]\n",
    "                        shape = (f, f)\n",
    "                        dA_prev[i, vert_start:vert_end, horiz_start:horiz_end, c] += distribute_value(da, shape)\n",
    "    \n",
    "    # Ensure the shape matches the input\n",
    "    assert dA_prev.shape == A_prev.shape\n",
    "    \n",
    "    return dA_prev\n"
   ]
  },
  {
   "cell_type": "code",
   "execution_count": 36,
   "id": "0965c97f-6d41-4e42-975a-7be5929e9c4e",
   "metadata": {},
   "outputs": [
    {
     "name": "stdout",
     "output_type": "stream",
     "text": [
      "mode = max\n",
      "Mean of dA: 0.14571390272918056\n",
      "dA_prev[1,1]: [[ 0.          0.        ]\n",
      " [ 5.05844394 -1.68282702]\n",
      " [ 0.          0.        ]]\n",
      "\n",
      "mode = average\n",
      "Mean of dA: 0.14571390272918056\n",
      "dA_prev[1,1]: [[ 0.08485462  0.2787552 ]\n",
      " [ 1.26461098 -0.25749373]\n",
      " [ 1.17975636 -0.53624893]]\n"
     ]
    }
   ],
   "source": [
    "# Set random seed for reproducibility\n",
    "np.random.seed(1)\n",
    "\n",
    "# Initialize input data and hyperparameters for pooling\n",
    "A_prev = np.random.randn(5, 5, 3, 2)  # Input matrix with shape (5, 5, 3, 2)\n",
    "hparameters = {\"stride\": 1, \"f\": 2}  # Pooling hyperparameters\n",
    "\n",
    "# Perform forward pooling operation\n",
    "A, cache = pool_forward(A_prev, hparameters)\n",
    "\n",
    "# Generate a random gradient matrix with the same shape as A for testing backpropagation\n",
    "dA = np.random.randn(5, 4, 2, 2)\n",
    "\n",
    "# Backpropagation for max pooling\n",
    "dA_prev = pool_backward(dA, cache, mode=\"max\")\n",
    "print(\"mode = max\")\n",
    "print(\"Mean of dA:\", np.mean(dA))\n",
    "print(\"dA_prev[1,1]:\", dA_prev[1,1])  \n",
    "print()  # Blank line for separation in output\n",
    "\n",
    "# Backpropagation for average pooling\n",
    "dA_prev = pool_backward(dA, cache, mode=\"average\")\n",
    "print(\"mode = average\")\n",
    "print(\"Mean of dA:\", np.mean(dA))\n",
    "print(\"dA_prev[1,1]:\", dA_prev[1,1])\n"
   ]
  },
  {
   "cell_type": "code",
   "execution_count": null,
   "id": "fa667b18-650c-441f-9baf-fecc6570336e",
   "metadata": {},
   "outputs": [],
   "source": []
  }
 ],
 "metadata": {
  "kernelspec": {
   "display_name": "Python 3 (ipykernel)",
   "language": "python",
   "name": "python3"
  },
  "language_info": {
   "codemirror_mode": {
    "name": "ipython",
    "version": 3
   },
   "file_extension": ".py",
   "mimetype": "text/x-python",
   "name": "python",
   "nbconvert_exporter": "python",
   "pygments_lexer": "ipython3",
   "version": "3.12.4"
  }
 },
 "nbformat": 4,
 "nbformat_minor": 5
}
